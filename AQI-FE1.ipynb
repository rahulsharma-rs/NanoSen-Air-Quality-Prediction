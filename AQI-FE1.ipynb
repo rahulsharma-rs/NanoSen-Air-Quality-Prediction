{
 "cells": [
  {
   "cell_type": "code",
   "execution_count": 1,
   "metadata": {},
   "outputs": [],
   "source": [
    "import pandas as pd\n",
    "import numpy as np\n",
    "import seaborn as sns\n",
    "import matplotlib.pyplot as plt\n"
   ]
  },
  {
   "cell_type": "code",
   "execution_count": 2,
   "metadata": {},
   "outputs": [],
   "source": [
    "data=pd.read_pickle('AQI-processed-raw-data.pkl')"
   ]
  },
  {
   "cell_type": "code",
   "execution_count": 3,
   "metadata": {},
   "outputs": [],
   "source": [
    "data['Month']=data.index.month#.apply(lambda x:np.sin(x))\n",
    "data['Quarter']=data.index.quarter#.apply(lambda x:np.sin(x))\n",
    "data['Dayofweek']=data.index.dayofweek#.apply(lambda x:np.sin(x))\n",
    "data['HourofDay']=data.index.hour#.apply(lambda x:np.sin(x))\n",
    "data['DayofMonth']=data.index.day#.apply(lambda x:np.sin(x))\n",
    "data['Dayoftheyear']=data.index.dayofyear#.apply(lambda x:np.sin(x))"
   ]
  },
  {
   "cell_type": "code",
   "execution_count": 4,
   "metadata": {},
   "outputs": [],
   "source": [
    "#creating the binary valued dataframes for the weekdays and weekneds\n",
    "data['Monday']=data.index.dayofweek\n",
    "data['Monday']=data['Monday'].apply(lambda x: 1 if x==0 else 0)\n",
    "data['Tuesday']=data.index.dayofweek\n",
    "data['Tuesday']=data['Tuesday'].apply(lambda x: 1 if x==1 else 0)\n",
    "data['Wednesday']=data.index.dayofweek\n",
    "data['Wednesday']=data['Wednesday'].apply(lambda x: 1 if x==2 else 0)\n",
    "data['Thursday']=data.index.dayofweek\n",
    "data['Thursday']=data['Thursday'].apply(lambda x: 1 if x==3 else 0)\n",
    "data['Friday']=data.index.dayofweek\n",
    "data['Friday']=data['Friday'].apply(lambda x: 1 if x==4 else 0)\n",
    "data['Saturday']=data.index.dayofweek\n",
    "data['Saturday']=data['Saturday'].apply(lambda x: 1 if x==5 else 0)\n",
    "data['Sunday']=data.index.dayofweek\n",
    "data['Sunday']=data['Sunday'].apply(lambda x: 1 if x==5 else 0)\n",
    "\n",
    "\n"
   ]
  },
  {
   "cell_type": "code",
   "execution_count": 5,
   "metadata": {},
   "outputs": [
    {
     "data": {
      "text/plain": [
       "Index(['Date', 'Time', 'CO(GT)', 'PT08.S1(CO)', 'NMHC(GT)', 'C6H6(GT)',\n",
       "       'PT08.S2(NMHC)', 'NOx(GT)', 'PT08.S3(NOx)', 'NO2(GT)', 'PT08.S4(NO2)',\n",
       "       'PT08.S5(O3)', 'T', 'RH', 'AH', 'ds', 'Month', 'Quarter', 'Dayofweek',\n",
       "       'HourofDay', 'DayofMonth', 'Dayoftheyear', 'Monday', 'Tuesday',\n",
       "       'Wednesday', 'Thursday', 'Friday', 'Saturday', 'Sunday'],\n",
       "      dtype='object')"
      ]
     },
     "execution_count": 5,
     "metadata": {},
     "output_type": "execute_result"
    }
   ],
   "source": [
    "data.columns"
   ]
  },
  {
   "cell_type": "code",
   "execution_count": 6,
   "metadata": {},
   "outputs": [],
   "source": [
    "data.drop(['Date','Time'],axis=1,inplace=True)"
   ]
  },
  {
   "cell_type": "code",
   "execution_count": 7,
   "metadata": {},
   "outputs": [
    {
     "data": {
      "text/plain": [
       "Index(['CO(GT)', 'PT08.S1(CO)', 'NMHC(GT)', 'C6H6(GT)', 'PT08.S2(NMHC)',\n",
       "       'NOx(GT)', 'PT08.S3(NOx)', 'NO2(GT)', 'PT08.S4(NO2)', 'PT08.S5(O3)',\n",
       "       'T', 'RH', 'AH', 'ds', 'Month', 'Quarter', 'Dayofweek', 'HourofDay',\n",
       "       'DayofMonth', 'Dayoftheyear', 'Monday', 'Tuesday', 'Wednesday',\n",
       "       'Thursday', 'Friday', 'Saturday', 'Sunday'],\n",
       "      dtype='object')"
      ]
     },
     "execution_count": 7,
     "metadata": {},
     "output_type": "execute_result"
    }
   ],
   "source": [
    "data.columns"
   ]
  },
  {
   "cell_type": "code",
   "execution_count": 8,
   "metadata": {},
   "outputs": [],
   "source": [
    "data.to_pickle(\"AQI-FE1-Binarized.pkl\")"
   ]
  },
  {
   "cell_type": "code",
   "execution_count": 9,
   "metadata": {},
   "outputs": [],
   "source": [
    "dco=data[[ 'Month', 'Quarter', 'Dayofweek', 'HourofDay',\n",
    "       'DayofMonth', 'Dayoftheyear', 'Monday', 'Tuesday', 'Wednesday',\n",
    "       'Thursday', 'Friday', 'Saturday', 'Sunday','CO(GT)']]"
   ]
  },
  {
   "cell_type": "code",
   "execution_count": null,
   "metadata": {},
   "outputs": [],
   "source": []
  },
  {
   "cell_type": "code",
   "execution_count": 10,
   "metadata": {},
   "outputs": [
    {
     "data": {
      "text/plain": [
       "<matplotlib.axes._subplots.AxesSubplot at 0x12a933490>"
      ]
     },
     "execution_count": 10,
     "metadata": {},
     "output_type": "execute_result"
    },
    {
     "data": {
      "image/png": "[encoded data removed]",
      "text/plain": [
       "<Figure size 432x288 with 1 Axes>"
      ]
     },
     "metadata": {
      "needs_background": "light"
     },
     "output_type": "display_data"
    }
   ],
   "source": [
    "data.loc['2005-1-1':'2005-1-3'].plot(y='NO2(GT)')"
   ]
  },
  {
   "cell_type": "code",
   "execution_count": null,
   "metadata": {},
   "outputs": [],
   "source": []
  },
  {
   "cell_type": "code",
   "execution_count": null,
   "metadata": {},
   "outputs": [],
   "source": []
  }
 ],
 "metadata": {
  "kernelspec": {
   "display_name": "Python 3",
   "language": "python",
   "name": "python3"
  },
  "language_info": {
   "codemirror_mode": {
    "name": "ipython",
    "version": 3
   },
   "file_extension": ".py",
   "mimetype": "text/x-python",
   "name": "python",
   "nbconvert_exporter": "python",
   "pygments_lexer": "ipython3",
   "version": "3.7.4"
  }
 },
 "nbformat": 4,
 "nbformat_minor": 2
}
